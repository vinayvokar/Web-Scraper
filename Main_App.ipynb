{
 "cells": [
  {
   "cell_type": "markdown",
   "id": "ddeb6b4e-68ee-4846-a1b9-a5cc879fd7f2",
   "metadata": {},
   "source": [
    " <h1 style=\"color: #fd7e14; margin-top: 20px;\"><i class=\"fas fa-shopping-cart\"></i> Amazon Bestsellers Web Scraper</h1>"
   ]
  },
  {
   "cell_type": "markdown",
   "id": "99b64175-a4e6-4a78-ac01-885855879fd0",
   "metadata": {},
   "source": [
    "<h2 style=\"color: #0d6efd; margin-top: 20px;\"><i class=\"fas fa-info-circle\"></i> Project Summary</h2>\n",
    "    <p>This project is an Amazon Bestsellers Web Scraper designed to automate the process of logging in, navigating to various bestselling categories, and extracting key information about top products. The extracted data includes details such as product name, price, discount, ratings, shipping information, and more. Data is saved in both CSV and JSON formats for easy analysis and usage</p>"
   ]
  },
  {
   "cell_type": "markdown",
   "id": "0b3a88c9-628e-4096-8721-e89b015e0d85",
   "metadata": {},
   "source": [
    "<h2 style=\"color: #0d6efd; margin-top: 20px;\"><i class=\"fas fa-tasks\"></i> My Approach</h2>\n",
    "    <div style=\"background-color: #f8f9fa; padding: 15px; border-left: 4px solid #0d6efd; border-radius: 4px;\">\n",
    "        <p><strong>Step 1:</strong> Set up the Selenium WebDriver to control a Chrome browser in headless mode for running on platforms like Google Colab.</p>\n",
    "        <p><strong>Step 2:</strong> Automate Amazon login to access account-restricted data.</p>\n",
    "        <p><strong>Step 3:</strong> Navigate to each category page under \"Amazon Bestsellers\" and scrape details of top products by locating and extracting data elements such as price, discount, ratings, and seller information.</p>\n",
    "        <p><strong>Step 4:</strong> Save the collected data in CSV and JSON formats for later analysis and reporting.</p>\n",
    "    </div>"
   ]
  },
  {
   "cell_type": "markdown",
   "id": "0b1b98bd-10a9-4cfc-9ce1-bda1149d4826",
   "metadata": {},
   "source": [
    "<div style=\"background-color: #f8f9fa; border-left: 5px solid #0d6efd; padding: 10px; margin: 20px 0;\">\n",
    "    <strong style=\"color: #0d6efd;\">Note:</strong>\n",
    "    <p>This section highlights important information regarding the project. Ensure to:\n",
    "    <ul>\n",
    "        <li>No need to use any additional IDE , you can run the code here only</li>\n",
    "        <li>Please Change the username and password before running the project</li>\n",
    "        <li>Amzon may ask for 2FA You have 15 sec to enter the code , however you can increase the time as per your need from below code</li>\n",
    "    </ul>\n",
    "    </p>\n",
    "</div>"
   ]
  },
  {
   "cell_type": "markdown",
   "id": "4d20db97-c21a-49cc-ad90-75af4b935b7e",
   "metadata": {},
   "source": [
    "<h2 style=\"color: #198754; margin-top: 20px;\"><i class=\"fas fa-tasks\"></i> Step 1: Install Selenium and WebDriver Manager</h2>"
   ]
  },
  {
   "cell_type": "code",
   "execution_count": null,
   "id": "1b89cec1-2793-464d-933f-1dca69e2263f",
   "metadata": {},
   "outputs": [],
   "source": [
    "!pip install selenium\n",
    "!pip install webdriver-manager"
   ]
  },
  {
   "cell_type": "markdown",
   "id": "459690bf-0461-46ee-a7a4-70c3f1395523",
   "metadata": {},
   "source": [
    "<h2 style=\"color: #198754; margin-top: 20px;\"><i class=\"fas fa-tasks\"></i> Step 2: Import Required Libraries</h2>"
   ]
  },
  {
   "cell_type": "code",
   "execution_count": 4,
   "id": "196bfe71-bd9b-44cb-9bc0-b16c54e1e367",
   "metadata": {},
   "outputs": [],
   "source": [
    "from selenium import webdriver\n",
    "from webdriver_manager.chrome import ChromeDriverManager\n",
    "from selenium.webdriver.chrome.service import Service\n",
    "from selenium.webdriver.common.by import By\n",
    "import time\n",
    "import csv\n",
    "import json"
   ]
  },
  {
   "cell_type": "markdown",
   "id": "7e36588a-51e3-4c11-a67e-18cc8c367392",
   "metadata": {},
   "source": [
    "<h2 style=\"color: #198754; margin-top: 20px;\"><i class=\"fas fa-tasks\"></i> Step 3: Setup service and initialize the Chrome browser</h2>"
   ]
  },
  {
   "cell_type": "code",
   "execution_count": 5,
   "id": "a510e416-041b-46df-a19f-78cc826d2296",
   "metadata": {},
   "outputs": [],
   "source": [
    "# Setup service and initialize the Chrome browser\n",
    "service = Service(ChromeDriverManager().install())\n",
    "web = webdriver.Chrome(service=service)\n",
    "\n",
    "# Navigate to Amazon's homepage\n",
    "web.get('https://www.amazon.in/')\n",
    "\n",
    "# Maximize browser window\n",
    "web.maximize_window()\n",
    "\n",
    "# Allow the page to load\n",
    "time.sleep(2)"
   ]
  },
  {
   "cell_type": "markdown",
   "id": "ecbec48f-ccb1-4d7d-8c09-7f26f6897165",
   "metadata": {},
   "source": [
    "<h2 style=\"color: #198754; margin-top: 20px;\"><i class=\"fas fa-tasks\"></i> Step 4: Account authentication</h2>"
   ]
  },
  {
   "cell_type": "code",
   "execution_count": 6,
   "id": "ec93bc07-202b-430e-8d34-6dc9b2c4cf0c",
   "metadata": {},
   "outputs": [
    {
     "name": "stdout",
     "output_type": "stream",
     "text": [
      "Login successful!\n"
     ]
    }
   ],
   "source": [
    "# Click the account list to log in\n",
    "web.find_element(By.ID,'nav-link-accountList-nav-line-1').click()\n",
    "\n",
    "# Locate the email input field and enter email/phone\n",
    "email_field = web.find_element(By.ID, 'ap_email')\n",
    "email_field.send_keys('youremail@gmail.com')  # Replace with your email/phone number\n",
    "\n",
    "# Click the 'Continue' button\n",
    "web.find_element(By.ID, 'continue').click()\n",
    "\n",
    "# Allow some time for next page to load\n",
    "time.sleep(2)\n",
    "\n",
    "# Locate the password input field and enter the password\n",
    "password_field = web.find_element(By.ID, 'ap_password')\n",
    "password_field.send_keys('Password')  # Replace with your Amazon password\n",
    "\n",
    "# Click the 'Sign-In' button\n",
    "web.find_element(By.ID, 'signInSubmit').click()\n",
    "\n",
    "# Wait for the login process to complete\n",
    "time.sleep(5)\n",
    "\n",
    "# Verify if logged in successfully\n",
    "if \"Your Account\" in web.page_source:\n",
    "    print(\"Login successful!\")\n",
    "else:\n",
    "    print(\"Login failed, check credentials or 2FA.\")\n",
    "    time.sleep(15)\n"
   ]
  },
  {
   "cell_type": "markdown",
   "id": "a27f8e41-c363-451b-ba98-f0585a5f903e",
   "metadata": {},
   "source": [
    "<h2 style=\"color: #198754; margin-top: 20px;\"><i class=\"fas fa-tasks\"></i>Step 5:Web Scraping</h2>"
   ]
  },
  {
   "cell_type": "code",
   "execution_count": 7,
   "id": "01702051-745b-4552-abcc-02e4ef91c02b",
   "metadata": {},
   "outputs": [],
   "source": [
    "# List of category URLs\n",
    "category_urls = [\n",
    "    \"https://www.amazon.in/gp/bestsellers/kitchen/ref=zg_bs_nav_kitchen_0\",\n",
    "    \"https://www.amazon.in/gp/bestsellers/shoes/ref=zg_bs_nav_shoes_0\",\n",
    "    \"https://www.amazon.in/gp/bestsellers/computers/ref=zg_bs_nav_computers_0\",\n",
    "    \"https://www.amazon.in/gp/bestsellers/electronics/ref=zg_bs_nav_electronics_0\",\n",
    "    \"https://www.amazon.in/gp/bestsellers/gift-cards/ref=zg_bs_nav_gift-cards_0\"\n",
    "    \"https://www.amazon.in/gp/bestsellers/jewelry/ref=zg_bs_nav_jewelry_0\",\n",
    "    \"https://www.amazon.in/gp/bestsellers/toys/ref=zg_bs_nav_toys_0\"\n",
    "]\n",
    "\n",
    "# List to store product data\n",
    "product_data = []\n",
    "\n",
    "# Loop through each category URL\n",
    "for category_url in category_urls:\n",
    "    web.get(category_url)\n",
    "    time.sleep(2)  # Wait for the page to load\n",
    "\n",
    "    # Extracting category name\n",
    "    category_name = category_url.split('/')[-2].capitalize()\n",
    "\n",
    "    try:\n",
    "        products = web.find_elements(By.CLASS_NAME, '_cDEzb_p13n-sc-css-line-clamp-3_g3dy1')  # Product titles\n",
    "        prices = web.find_elements(By.CLASS_NAME, '_cDEzb_p13n-sc-price_3mJ9Z')  # Product prices\n",
    "        discounts = web.find_elements(By.XPATH, \"//span[@class='_cDEzb_p13n-sc-discount_2m8mP']\")  # Sale discounts\n",
    "        ratings = web.find_elements(By.XPATH, \"//i[@class='a-icon a-icon-star-small a-star-small-3-5 aok-align-top']/span\")  # Product ratings\n",
    "        ships_from = web.find_elements(By.XPATH, \"//span[contains(text(),'Ships from')]\")  # Ship from\n",
    "        sold_by = web.find_elements(By.XPATH, \"//span[contains(text(),'Sold by')]\")  # Sold by\n",
    "        descriptions = web.find_elements(By.CLASS_NAME, '_cDEzb_p13n-sc-css-line-clamp-3_g3dy1')  # Product descriptions\n",
    "        past_month_bought = web.find_elements(By.XPATH, \"//span[contains(text(),'bought in the past month')]\")  # Number bought in the past month\n",
    "        images = web.find_elements(By.XPATH, \"//img[@class='s-image']\")  # Product images\n",
    "\n",
    "        # Loop through products and extract details\n",
    "        for i in range(len(products)):\n",
    "            product_info = {\n",
    "                'name': 'N/A',  # Default value\n",
    "                'price': 'N/A',\n",
    "                'discount': 'N/A',\n",
    "                'best_seller_rating': 'N/A',\n",
    "                'ship_from': 'N/A',\n",
    "                'sold_by': 'N/A',\n",
    "                'rating': 'N/A',\n",
    "                'description': 'N/A',\n",
    "                'number_bought': 'N/A',\n",
    "                'category': category_name,\n",
    "                'images': []\n",
    "            }\n",
    "\n",
    "            try:\n",
    "                product_info['name'] = products[i].text\n",
    "            except IndexError:\n",
    "                pass  # Default value remains 'N/A'\n",
    "\n",
    "            try:\n",
    "                product_info['price'] = prices[i].text\n",
    "            except IndexError:\n",
    "                pass\n",
    "\n",
    "            try:\n",
    "                product_info['discount'] = discounts[i].text if i < len(discounts) else \"N/A\"\n",
    "            except IndexError:\n",
    "                pass\n",
    "\n",
    "            try:\n",
    "                product_info['best_seller_rating'] = ratings[i].text if i < len(ratings) else \"N/A\"\n",
    "            except IndexError:\n",
    "                pass\n",
    "\n",
    "            try:\n",
    "                product_info['ship_from'] = ships_from[i].text if i < len(ships_from) else \"N/A\"\n",
    "            except IndexError:\n",
    "                pass\n",
    "\n",
    "            try:\n",
    "                product_info['sold_by'] = sold_by[i].text if i < len(sold_by) else \"N/A\"\n",
    "            except IndexError:\n",
    "                pass\n",
    "\n",
    "            try:\n",
    "                product_info['description'] = descriptions[i].text if i < len(descriptions) else \"N/A\"\n",
    "            except IndexError:\n",
    "                pass\n",
    "\n",
    "            try:\n",
    "                product_info['number_bought'] = past_month_bought[i].text if i < len(past_month_bought) else \"N/A\"\n",
    "            except IndexError:\n",
    "                pass\n",
    "\n",
    "            try:\n",
    "                # Get all available images\n",
    "                product_info['images'] = [img.get_attribute('src') for img in images]\n",
    "            except Exception:\n",
    "                product_info['images'] = []  # If there are no images, keep it empty\n",
    "\n",
    "            # Append the product information to the list\n",
    "            product_data.append(product_info)\n",
    "\n",
    "    except Exception as e:\n",
    "        print(f\"An error occurred while processing category {category_name}: {e}\")\n",
    "        continue  # Move on to the next category\n"
   ]
  },
  {
   "cell_type": "markdown",
   "id": "c10544b7-d0c6-4940-bcf5-a677464f5aaf",
   "metadata": {},
   "source": [
    "<h2 style=\"color: #198754; margin-top: 20px;\"><i class=\"fas fa-tasks\"></i>Step 6:Save data to CSV and JSON</h2>"
   ]
  },
  {
   "cell_type": "code",
   "execution_count": 8,
   "id": "b3f075be-9c01-4907-8719-489628670da0",
   "metadata": {},
   "outputs": [
    {
     "name": "stdout",
     "output_type": "stream",
     "text": [
      "Product data saved to product_data.csv\n",
      "Product data saved to product_data.json\n"
     ]
    }
   ],
   "source": [
    "# Save the product data to CSV\n",
    "csv_file_path = 'product_data.csv'\n",
    "with open(csv_file_path, mode='w', newline='', encoding='utf-8') as csvfile:\n",
    "    fieldnames = ['name', 'price', 'discount', 'best_seller_rating', 'ship_from', 'sold_by', 'rating', 'description', 'number_bought', 'category', 'images']\n",
    "    writer = csv.DictWriter(csvfile, fieldnames=fieldnames)\n",
    "\n",
    "    writer.writeheader()\n",
    "    for item in product_data:\n",
    "        writer.writerow(item)\n",
    "\n",
    "print(f\"Product data saved to {csv_file_path}\")\n",
    "\n",
    "# Save the product data to JSON\n",
    "json_file_path = 'product_data.json'\n",
    "with open(json_file_path, mode='w', encoding='utf-8') as jsonfile:\n",
    "    json.dump(product_data, jsonfile, ensure_ascii=False, indent=4)\n",
    "\n",
    "print(f\"Product data saved to {json_file_path}\")\n"
   ]
  },
  {
   "cell_type": "markdown",
   "id": "bd99b519-e05b-4a51-9a50-f19c2a48e58d",
   "metadata": {},
   "source": [
    "<h2 style=\"color: #198754; margin-top: 20px;\"><i class=\"fas fa-tasks\"></i>Step 7 :Close the browser</h2>"
   ]
  },
  {
   "cell_type": "code",
   "execution_count": null,
   "id": "6ea0b54e-b0a2-4b85-894a-52bcc63d3755",
   "metadata": {},
   "outputs": [],
   "source": [
    "web.quit()"
   ]
  }
 ],
 "metadata": {
  "kernelspec": {
   "display_name": "Python 3 (ipykernel)",
   "language": "python",
   "name": "python3"
  },
  "language_info": {
   "codemirror_mode": {
    "name": "ipython",
    "version": 3
   },
   "file_extension": ".py",
   "mimetype": "text/x-python",
   "name": "python",
   "nbconvert_exporter": "python",
   "pygments_lexer": "ipython3",
   "version": "3.12.4"
  }
 },
 "nbformat": 4,
 "nbformat_minor": 5
}
